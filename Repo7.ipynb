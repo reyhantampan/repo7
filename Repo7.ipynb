{
  "nbformat": 4,
  "nbformat_minor": 0,
  "metadata": {
    "colab": {
      "provenance": []
    },
    "kernelspec": {
      "name": "python3",
      "display_name": "Python 3"
    },
    "language_info": {
      "name": "python"
    }
  },
  "cells": [
    {
      "cell_type": "code",
      "source": [
        "pip install scikit-learn nltk\n"
      ],
      "metadata": {
        "colab": {
          "base_uri": "https://localhost:8080/"
        },
        "id": "dwdmshvG8HNi",
        "outputId": "7688c827-2ba1-44a3-8c61-16ad6095e1b0"
      },
      "execution_count": 14,
      "outputs": [
        {
          "output_type": "stream",
          "name": "stdout",
          "text": [
            "Requirement already satisfied: scikit-learn in /usr/local/lib/python3.10/dist-packages (1.2.2)\n",
            "Requirement already satisfied: nltk in /usr/local/lib/python3.10/dist-packages (3.8.1)\n",
            "Requirement already satisfied: numpy>=1.17.3 in /usr/local/lib/python3.10/dist-packages (from scikit-learn) (1.23.5)\n",
            "Requirement already satisfied: scipy>=1.3.2 in /usr/local/lib/python3.10/dist-packages (from scikit-learn) (1.11.4)\n",
            "Requirement already satisfied: joblib>=1.1.1 in /usr/local/lib/python3.10/dist-packages (from scikit-learn) (1.3.2)\n",
            "Requirement already satisfied: threadpoolctl>=2.0.0 in /usr/local/lib/python3.10/dist-packages (from scikit-learn) (3.2.0)\n",
            "Requirement already satisfied: click in /usr/local/lib/python3.10/dist-packages (from nltk) (8.1.7)\n",
            "Requirement already satisfied: regex>=2021.8.3 in /usr/local/lib/python3.10/dist-packages (from nltk) (2023.6.3)\n",
            "Requirement already satisfied: tqdm in /usr/local/lib/python3.10/dist-packages (from nltk) (4.66.1)\n"
          ]
        }
      ]
    },
    {
      "cell_type": "code",
      "source": [
        "from sklearn.feature_extraction.text import TfidfVectorizer\n",
        "from sklearn.cluster import KMeans\n",
        "from sklearn.metrics import pairwise_distances_argmin_min\n",
        "from nltk.stem import PorterStemmer\n",
        "from nltk.tokenize import word_tokenize"
      ],
      "metadata": {
        "id": "7urinpSl8h2O"
      },
      "execution_count": 15,
      "outputs": []
    },
    {
      "cell_type": "code",
      "source": [
        "from sklearn.feature_extraction.text import TfidfVectorizer\n",
        "from sklearn.cluster import KMeans\n",
        "from nltk.stem import PorterStemmer\n",
        "from nltk.tokenize import word_tokenize\n",
        "\n",
        "# Sample documents\n",
        "documents = [\n",
        "    \"D1PSIS berburu juara Liga Indonesia\",\n",
        "    \"D2Hasil putusan Sidang Elit Politik\",\n",
        "    \"D3Partai politik berebut suara\",\n",
        "    \"D4Manchester United Juara Liga Inggris\",\n",
        "    \"D5Timnas Indonesia juara Liga AFC\"\n",
        "]\n",
        "\n",
        "# Tokenization and stemming\n",
        "ps = PorterStemmer()\n",
        "tokenized_documents = [' '.join([ps.stem(word) for word in word_tokenize(doc.lower())]) for doc in documents]\n",
        "\n",
        "# TF-IDF Vectorization\n",
        "vectorizer = TfidfVectorizer()\n",
        "X = vectorizer.fit_transform(tokenized_documents)\n",
        "\n",
        "# K-Means Clustering with explicit n_init\n",
        "k = 2\n",
        "kmeans = KMeans(n_clusters=k, random_state=42, n_init=10)  # Set n_init explicitly\n",
        "kmeans.fit(X)\n",
        "\n",
        "# Get cluster labels for each document\n",
        "cluster_labels = kmeans.labels_\n",
        "\n",
        "# Print the clustering result with cluster labels\n",
        "for i, label in enumerate(cluster_labels):\n",
        "    print(f\"Document {i+1} (Centroid {label+1}): {documents[i]}\")\n"
      ],
      "metadata": {
        "colab": {
          "base_uri": "https://localhost:8080/"
        },
        "id": "GHLhZJguA3JZ",
        "outputId": "28cfcd60-b9df-448f-c905-05094534197a"
      },
      "execution_count": 23,
      "outputs": [
        {
          "output_type": "stream",
          "name": "stdout",
          "text": [
            "Document 1 (Centroid 1): D1PSIS berburu juara Liga Indonesia\n",
            "Document 2 (Centroid 2): D2Hasil putusan Sidang Elit Politik\n",
            "Document 3 (Centroid 2): D3Partai politik berebut suara\n",
            "Document 4 (Centroid 1): D4Manchester United Juara Liga Inggris\n",
            "Document 5 (Centroid 1): D5Timnas Indonesia juara Liga AFC\n"
          ]
        }
      ]
    },
    {
      "cell_type": "code",
      "source": [
        "import nltk\n",
        "nltk.download('punkt')"
      ],
      "metadata": {
        "colab": {
          "base_uri": "https://localhost:8080/"
        },
        "id": "b_NMrf3E9_0y",
        "outputId": "eb5bf435-24ae-435c-cb9a-01f49b5d46c9"
      },
      "execution_count": 17,
      "outputs": [
        {
          "output_type": "stream",
          "name": "stderr",
          "text": [
            "[nltk_data] Downloading package punkt to /root/nltk_data...\n",
            "[nltk_data]   Package punkt is already up-to-date!\n"
          ]
        },
        {
          "output_type": "execute_result",
          "data": {
            "text/plain": [
              "True"
            ]
          },
          "metadata": {},
          "execution_count": 17
        }
      ]
    }
  ]
}